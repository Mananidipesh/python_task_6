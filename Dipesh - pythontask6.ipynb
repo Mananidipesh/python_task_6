{
 "cells": [
  {
   "cell_type": "code",
   "execution_count": 1,
   "id": "e6d91a44-b51a-4982-979c-db72a80565b6",
   "metadata": {},
   "outputs": [
    {
     "name": "stdout",
     "output_type": "stream",
     "text": [
      "{'user_id': 2, 'user_name': 'user2', 'user_age': 33, 'age_category': 'adult'}\n"
     ]
    }
   ],
   "source": [
    "def user_data(user_id , user_name , user_age):\n",
    "     if user_age > 50:\n",
    "         age_category = \"elder\"\n",
    "     elif user_age > 25:\n",
    "         age_category = \"adult\"\n",
    "     else:\n",
    "         age_category = \"kids\"\n",
    "\n",
    "     return {\"user_id\" : user_id , \"user_name\" : user_name , \"user_age\" : user_age , \"age_category\" : age_category }\n",
    "\n",
    "\n",
    "print(user_data(2, \"user2\" , 33))"
   ]
  }
 ],
 "metadata": {
  "kernelspec": {
   "display_name": "Python 3 (ipykernel)",
   "language": "python",
   "name": "python3"
  },
  "language_info": {
   "codemirror_mode": {
    "name": "ipython",
    "version": 3
   },
   "file_extension": ".py",
   "mimetype": "text/x-python",
   "name": "python",
   "nbconvert_exporter": "python",
   "pygments_lexer": "ipython3",
   "version": "3.12.4"
  }
 },
 "nbformat": 4,
 "nbformat_minor": 5
}
